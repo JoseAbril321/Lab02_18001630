{
 "cells": [
  {
   "cell_type": "markdown",
   "id": "aab35697-cc57-4bd1-b478-b6f6d12d7277",
   "metadata": {},
   "source": [
    "# Parte #1"
   ]
  },
  {
   "cell_type": "markdown",
   "id": "a49d0df2-a498-4bd0-89cb-80f26ebd421a",
   "metadata": {
    "tags": []
   },
   "source": [
    "## 1."
   ]
  },
  {
   "cell_type": "markdown",
   "id": "754a5518-4d6f-4bf6-b2a9-3cbcf56c3570",
   "metadata": {
    "jp-MarkdownHeadingCollapsed": true,
    "tags": []
   },
   "source": [
    "### Funcion"
   ]
  },
  {
   "cell_type": "code",
   "execution_count": 270,
   "id": "31f61747-fc15-427c-8a76-a5a9a7e2db54",
   "metadata": {
    "tags": []
   },
   "outputs": [],
   "source": [
    "def segundos_a_tiempo(s):\n",
    "    try:\n",
    "        s = int(s)\n",
    "    except ValueError:\n",
    "        print('Porvafor ingrese un entero')\n",
    "        return\n",
    "    m = int(s/60)\n",
    "    s = s - int(60 * m)\n",
    "    h = int(m/60)\n",
    "    m = m - int(60 * h)\n",
    "    \n",
    "    print(f'Horas: {h}, Minutos: {m}, Segundos: {s}')"
   ]
  },
  {
   "cell_type": "code",
   "execution_count": 271,
   "id": "97788848-97a2-4d29-badd-67360dd41b96",
   "metadata": {
    "tags": []
   },
   "outputs": [
    {
     "name": "stdout",
     "output_type": "stream",
     "text": [
      "Horas: -2, Minutos: -13, Segundos: -20\n"
     ]
    }
   ],
   "source": [
    "segundos_a_tiempo(-8000) "
   ]
  },
  {
   "cell_type": "markdown",
   "id": "1fcb5749-6026-492f-a64c-c65eb7d4ef3d",
   "metadata": {
    "jp-MarkdownHeadingCollapsed": true,
    "tags": []
   },
   "source": [
    "### Ejecucion"
   ]
  },
  {
   "cell_type": "code",
   "execution_count": 202,
   "id": "1d1f41f6-a692-428c-9456-4f5ad2ea568b",
   "metadata": {
    "tags": []
   },
   "outputs": [
    {
     "name": "stdin",
     "output_type": "stream",
     "text": [
      "Ingrese una cantidad de segundos:  44646464\n"
     ]
    },
    {
     "name": "stdout",
     "output_type": "stream",
     "text": [
      "Horas: 12401, Minutos: 47, Segundos: 44\n"
     ]
    }
   ],
   "source": [
    "s = input('Ingrese una cantidad de segundos: ')\n",
    "segundos_a_tiempo(s)"
   ]
  },
  {
   "cell_type": "markdown",
   "id": "68e18426-489e-4c87-8645-ef3dd762d656",
   "metadata": {
    "tags": []
   },
   "source": [
    "## 2."
   ]
  },
  {
   "cell_type": "markdown",
   "id": "3e93eeb7-86e2-4872-9b5d-b41d656c7d09",
   "metadata": {
    "jp-MarkdownHeadingCollapsed": true,
    "tags": []
   },
   "source": [
    "### Funcion"
   ]
  },
  {
   "cell_type": "code",
   "execution_count": 3,
   "id": "ce5bc556-8b53-4d63-85a0-93200f11fd08",
   "metadata": {
    "tags": []
   },
   "outputs": [],
   "source": [
    "def triangulos_caracter (n, c):\n",
    "    try:\n",
    "        n = int(n)\n",
    "    except ValueError:\n",
    "        print('Porvafor ingrese un entero')\n",
    "        return\n",
    "    \n",
    "    if (n > 20) | (n < 1):\n",
    "        print('Porfavor introduzca un numero entero entre 1 y 20')\n",
    "        return\n",
    "    \n",
    "    if (type(c) != 'str') & (len(c) > 1) :\n",
    "        print('Profavor ingrese un caracter')\n",
    "        return\n",
    "    \n",
    "    n_space = ''\n",
    "    capa_triangulo = []\n",
    "    string = ''\n",
    "    for _ in range(round(n/4) + 1):\n",
    "        n_space = n_space + ' '\n",
    "        \n",
    "    for x in range(n):\n",
    "        capa = ''\n",
    "        for _ in range((x%n)+1):\n",
    "            capa = capa + c\n",
    "        capa_triangulo.append(capa)\n",
    "        \n",
    "    for x in range(n):\n",
    "        string = string + capa_triangulo[0 + x] + n_space + capa_triangulo[n - x - 1] + n_space + capa_triangulo[n - x -1] + n_space + capa_triangulo[0 + x] + '\\n'\n",
    "    print(string)"
   ]
  },
  {
   "cell_type": "code",
   "execution_count": 4,
   "id": "946cd751-a893-4aca-bdad-a4b0236330b9",
   "metadata": {
    "tags": []
   },
   "outputs": [
    {
     "name": "stdout",
     "output_type": "stream",
     "text": [
      "Ƭ      ƬƬƬƬƬƬƬƬƬƬƬƬƬƬƬƬƬƬƬƬ      ƬƬƬƬƬƬƬƬƬƬƬƬƬƬƬƬƬƬƬƬ      Ƭ\n",
      "ƬƬ      ƬƬƬƬƬƬƬƬƬƬƬƬƬƬƬƬƬƬƬ      ƬƬƬƬƬƬƬƬƬƬƬƬƬƬƬƬƬƬƬ      ƬƬ\n",
      "ƬƬƬ      ƬƬƬƬƬƬƬƬƬƬƬƬƬƬƬƬƬƬ      ƬƬƬƬƬƬƬƬƬƬƬƬƬƬƬƬƬƬ      ƬƬƬ\n",
      "ƬƬƬƬ      ƬƬƬƬƬƬƬƬƬƬƬƬƬƬƬƬƬ      ƬƬƬƬƬƬƬƬƬƬƬƬƬƬƬƬƬ      ƬƬƬƬ\n",
      "ƬƬƬƬƬ      ƬƬƬƬƬƬƬƬƬƬƬƬƬƬƬƬ      ƬƬƬƬƬƬƬƬƬƬƬƬƬƬƬƬ      ƬƬƬƬƬ\n",
      "ƬƬƬƬƬƬ      ƬƬƬƬƬƬƬƬƬƬƬƬƬƬƬ      ƬƬƬƬƬƬƬƬƬƬƬƬƬƬƬ      ƬƬƬƬƬƬ\n",
      "ƬƬƬƬƬƬƬ      ƬƬƬƬƬƬƬƬƬƬƬƬƬƬ      ƬƬƬƬƬƬƬƬƬƬƬƬƬƬ      ƬƬƬƬƬƬƬ\n",
      "ƬƬƬƬƬƬƬƬ      ƬƬƬƬƬƬƬƬƬƬƬƬƬ      ƬƬƬƬƬƬƬƬƬƬƬƬƬ      ƬƬƬƬƬƬƬƬ\n",
      "ƬƬƬƬƬƬƬƬƬ      ƬƬƬƬƬƬƬƬƬƬƬƬ      ƬƬƬƬƬƬƬƬƬƬƬƬ      ƬƬƬƬƬƬƬƬƬ\n",
      "ƬƬƬƬƬƬƬƬƬƬ      ƬƬƬƬƬƬƬƬƬƬƬ      ƬƬƬƬƬƬƬƬƬƬƬ      ƬƬƬƬƬƬƬƬƬƬ\n",
      "ƬƬƬƬƬƬƬƬƬƬƬ      ƬƬƬƬƬƬƬƬƬƬ      ƬƬƬƬƬƬƬƬƬƬ      ƬƬƬƬƬƬƬƬƬƬƬ\n",
      "ƬƬƬƬƬƬƬƬƬƬƬƬ      ƬƬƬƬƬƬƬƬƬ      ƬƬƬƬƬƬƬƬƬ      ƬƬƬƬƬƬƬƬƬƬƬƬ\n",
      "ƬƬƬƬƬƬƬƬƬƬƬƬƬ      ƬƬƬƬƬƬƬƬ      ƬƬƬƬƬƬƬƬ      ƬƬƬƬƬƬƬƬƬƬƬƬƬ\n",
      "ƬƬƬƬƬƬƬƬƬƬƬƬƬƬ      ƬƬƬƬƬƬƬ      ƬƬƬƬƬƬƬ      ƬƬƬƬƬƬƬƬƬƬƬƬƬƬ\n",
      "ƬƬƬƬƬƬƬƬƬƬƬƬƬƬƬ      ƬƬƬƬƬƬ      ƬƬƬƬƬƬ      ƬƬƬƬƬƬƬƬƬƬƬƬƬƬƬ\n",
      "ƬƬƬƬƬƬƬƬƬƬƬƬƬƬƬƬ      ƬƬƬƬƬ      ƬƬƬƬƬ      ƬƬƬƬƬƬƬƬƬƬƬƬƬƬƬƬ\n",
      "ƬƬƬƬƬƬƬƬƬƬƬƬƬƬƬƬƬ      ƬƬƬƬ      ƬƬƬƬ      ƬƬƬƬƬƬƬƬƬƬƬƬƬƬƬƬƬ\n",
      "ƬƬƬƬƬƬƬƬƬƬƬƬƬƬƬƬƬƬ      ƬƬƬ      ƬƬƬ      ƬƬƬƬƬƬƬƬƬƬƬƬƬƬƬƬƬƬ\n",
      "ƬƬƬƬƬƬƬƬƬƬƬƬƬƬƬƬƬƬƬ      ƬƬ      ƬƬ      ƬƬƬƬƬƬƬƬƬƬƬƬƬƬƬƬƬƬƬ\n",
      "ƬƬƬƬƬƬƬƬƬƬƬƬƬƬƬƬƬƬƬƬ      Ƭ      Ƭ      ƬƬƬƬƬƬƬƬƬƬƬƬƬƬƬƬƬƬƬƬ\n",
      "\n"
     ]
    }
   ],
   "source": [
    "triangulos_caracter(20, '\\654')"
   ]
  },
  {
   "cell_type": "markdown",
   "id": "49bd631f-5bd1-4656-90ef-15f189924ab4",
   "metadata": {
    "tags": []
   },
   "source": [
    "### Ejecucion"
   ]
  },
  {
   "cell_type": "code",
   "execution_count": 5,
   "id": "e5cea583-0fda-4d2e-9297-551366ca7f2c",
   "metadata": {
    "tags": []
   },
   "outputs": [
    {
     "name": "stdin",
     "output_type": "stream",
     "text": [
      "Porfavor ingrese un numero del 1 al 20:  18\n",
      "Porfavor ingrese un caracter:  °\n"
     ]
    },
    {
     "name": "stdout",
     "output_type": "stream",
     "text": [
      "°     °°°°°°°°°°°°°°°°°°     °°°°°°°°°°°°°°°°°°     °\n",
      "°°     °°°°°°°°°°°°°°°°°     °°°°°°°°°°°°°°°°°     °°\n",
      "°°°     °°°°°°°°°°°°°°°°     °°°°°°°°°°°°°°°°     °°°\n",
      "°°°°     °°°°°°°°°°°°°°°     °°°°°°°°°°°°°°°     °°°°\n",
      "°°°°°     °°°°°°°°°°°°°°     °°°°°°°°°°°°°°     °°°°°\n",
      "°°°°°°     °°°°°°°°°°°°°     °°°°°°°°°°°°°     °°°°°°\n",
      "°°°°°°°     °°°°°°°°°°°°     °°°°°°°°°°°°     °°°°°°°\n",
      "°°°°°°°°     °°°°°°°°°°°     °°°°°°°°°°°     °°°°°°°°\n",
      "°°°°°°°°°     °°°°°°°°°°     °°°°°°°°°°     °°°°°°°°°\n",
      "°°°°°°°°°°     °°°°°°°°°     °°°°°°°°°     °°°°°°°°°°\n",
      "°°°°°°°°°°°     °°°°°°°°     °°°°°°°°     °°°°°°°°°°°\n",
      "°°°°°°°°°°°°     °°°°°°°     °°°°°°°     °°°°°°°°°°°°\n",
      "°°°°°°°°°°°°°     °°°°°°     °°°°°°     °°°°°°°°°°°°°\n",
      "°°°°°°°°°°°°°°     °°°°°     °°°°°     °°°°°°°°°°°°°°\n",
      "°°°°°°°°°°°°°°°     °°°°     °°°°     °°°°°°°°°°°°°°°\n",
      "°°°°°°°°°°°°°°°°     °°°     °°°     °°°°°°°°°°°°°°°°\n",
      "°°°°°°°°°°°°°°°°°     °°     °°     °°°°°°°°°°°°°°°°°\n",
      "°°°°°°°°°°°°°°°°°°     °     °     °°°°°°°°°°°°°°°°°°\n",
      "\n"
     ]
    }
   ],
   "source": [
    "n = input('Porfavor ingrese un numero del 1 al 20: ')\n",
    "x = input('Porfavor ingrese un caracter: ')\n",
    "triangulos_caracter(n, x)"
   ]
  },
  {
   "cell_type": "markdown",
   "id": "284de7ce-6894-4683-bac8-f5219ba8583f",
   "metadata": {
    "tags": []
   },
   "source": [
    "## 3."
   ]
  },
  {
   "cell_type": "markdown",
   "id": "92e0f452-a266-4065-afab-206f914d8ad2",
   "metadata": {
    "jp-MarkdownHeadingCollapsed": true,
    "tags": []
   },
   "source": [
    "###  Funcion"
   ]
  },
  {
   "cell_type": "code",
   "execution_count": 293,
   "id": "c8447f72-71c9-4e6b-97b8-419b210c1569",
   "metadata": {
    "tags": []
   },
   "outputs": [],
   "source": [
    "from datetime import date\n",
    "def edad (d, m, a):\n",
    "    \n",
    "    try:\n",
    "        d = int(d)\n",
    "        m = int(m)\n",
    "        a = int(a)\n",
    "        \n",
    "    except ValueError:\n",
    "        print('Porvafor ingrese enteros')\n",
    "        return\n",
    "    \n",
    "    if (m > 12) | (m < 1):\n",
    "        print('Profavor ingrese un mes valido')\n",
    "        return\n",
    "    if (m == 2) & ( ((d >= 28) & ((a%4) != 0)) | ((d > 29) & ((a%4) == 0)) ):\n",
    "        print('Porfavor ingrese un dia valido para febrero')\n",
    "        return\n",
    "    if (((d > 31) & ((m%2) == 1)) | ((d > 30) & ((m%2) == 0))) | (d < 1):\n",
    "        print('Profavor ingrese un dia valido')\n",
    "        return\n",
    "    if a < 1:\n",
    "        print('Porfavor ingrese un año mayor a 0')\n",
    "        return\n",
    "    \n",
    "    edad = date.today() - date(a, m, d)\n",
    "    \n",
    "    años = int(edad.days / 365.25)\n",
    "    meses = int((edad.days - int(años * 365.25)) / 30.4375 )\n",
    "    dias = int(edad.days - int(meses * 30.4375) - int(años * 365.25))\n",
    "    \n",
    "    #print(años, meses, dias)\n",
    "    print(f'Tienes {años} años, {meses} meses y {dias} dias de edad')"
   ]
  },
  {
   "cell_type": "code",
   "execution_count": 296,
   "id": "6d5f7515-c827-4bdb-91ad-d9360e36920b",
   "metadata": {
    "tags": []
   },
   "outputs": [
    {
     "name": "stdout",
     "output_type": "stream",
     "text": [
      "Tienes 24 años, 7 meses y 2 dias de edad\n"
     ]
    }
   ],
   "source": [
    "edad('31', '07', '1999')"
   ]
  },
  {
   "cell_type": "markdown",
   "id": "a7f70e58-b207-491a-95f8-feb0820c2c21",
   "metadata": {
    "jp-MarkdownHeadingCollapsed": true,
    "tags": []
   },
   "source": [
    "### Ejecucion"
   ]
  },
  {
   "cell_type": "code",
   "execution_count": 297,
   "id": "9a71d256-ecb0-4f2f-ad81-aa324405a267",
   "metadata": {
    "tags": []
   },
   "outputs": [
    {
     "name": "stdin",
     "output_type": "stream",
     "text": [
      "Ingrese el dia de su nacimiento: 22\n",
      "Ingrese el mes de su nacimiento: 08\n",
      "Ingrese el año de su nacimiento: 1996\n"
     ]
    },
    {
     "name": "stdout",
     "output_type": "stream",
     "text": [
      "Tienes 27 años, 6 meses y 11 dias de edad\n"
     ]
    }
   ],
   "source": [
    "d = input('Ingrese el dia de su nacimiento:')\n",
    "m = input('Ingrese el mes de su nacimiento:')\n",
    "a = input('Ingrese el año de su nacimiento:')\n",
    "edad(d, m, a)"
   ]
  },
  {
   "cell_type": "markdown",
   "id": "89cda613-b973-48f3-abb1-32040bf4324e",
   "metadata": {
    "tags": []
   },
   "source": [
    "## 4."
   ]
  },
  {
   "cell_type": "markdown",
   "id": "a143d576-fd5d-4456-92d7-f8bb94bed58e",
   "metadata": {
    "jp-MarkdownHeadingCollapsed": true,
    "tags": []
   },
   "source": [
    "### Funcion"
   ]
  },
  {
   "cell_type": "code",
   "execution_count": 300,
   "id": "ae59a535-f68e-4afe-9358-a4a7cabfb606",
   "metadata": {
    "tags": []
   },
   "outputs": [],
   "source": [
    "def tupla_a_string(t):\n",
    "    s = ''\n",
    "    for e in t:\n",
    "        s = s + str(e)\n",
    "        \n",
    "    print(s)"
   ]
  },
  {
   "cell_type": "code",
   "execution_count": 301,
   "id": "4c564973-f498-49aa-b039-d4350ee00dde",
   "metadata": {
    "tags": []
   },
   "outputs": [
    {
     "name": "stdout",
     "output_type": "stream",
     "text": [
      "158adadadad\n"
     ]
    }
   ],
   "source": [
    "tupla_a_string((1, 5, 8, 'adadadad'))"
   ]
  },
  {
   "cell_type": "markdown",
   "id": "36e2ac6d-0867-4106-ba96-d19ae7b4660a",
   "metadata": {},
   "source": [
    "## 5."
   ]
  },
  {
   "cell_type": "markdown",
   "id": "546908ee-3bff-47b2-937b-10bf02d38819",
   "metadata": {
    "jp-MarkdownHeadingCollapsed": true,
    "tags": []
   },
   "source": [
    "### Funcion"
   ]
  },
  {
   "cell_type": "code",
   "execution_count": 332,
   "id": "5afca7e8-56b3-4642-a2a1-bb4d190c469b",
   "metadata": {
    "tags": []
   },
   "outputs": [],
   "source": [
    "def limpiar_tupla(lt):\n",
    "    \n",
    "    if type(lt) != list:\n",
    "        print('Porfavor ingrse una lista')\n",
    "        return\n",
    "    new_lt = []\n",
    "    for t in lt:\n",
    "        if type(t) != tuple:\n",
    "            print('Porfavor ingrse una lista con tuplas')\n",
    "            return\n",
    "        if len(t) > 0:\n",
    "            new_lt.append(t)\n",
    "    return new_lt"
   ]
  },
  {
   "cell_type": "code",
   "execution_count": 334,
   "id": "a84d663d-a552-4571-b7c1-556226dd9712",
   "metadata": {
    "tags": []
   },
   "outputs": [
    {
     "data": {
      "text/plain": [
       "[(4, 5, 6, 7, 8, 'a'), (5256, 531), ('a', '321')]"
      ]
     },
     "execution_count": 334,
     "metadata": {},
     "output_type": "execute_result"
    }
   ],
   "source": [
    "a = [(4, 5, 6 , 7, 8, 'a'), (), (5256, 531), ('a', '321'), ()]\n",
    "x = limpiar_tupla(a)\n",
    "x"
   ]
  },
  {
   "cell_type": "markdown",
   "id": "76cc27fd-c88b-45b4-9744-57d699a62546",
   "metadata": {
    "tags": []
   },
   "source": [
    "## 6."
   ]
  },
  {
   "cell_type": "markdown",
   "id": "34d8f0a3-6316-4b8f-afc8-558a6deb7166",
   "metadata": {
    "jp-MarkdownHeadingCollapsed": true,
    "tags": []
   },
   "source": [
    "### Funcion"
   ]
  },
  {
   "cell_type": "code",
   "execution_count": 350,
   "id": "af47f41f-5fb8-41ea-bfd1-e5ccdcab7f4f",
   "metadata": {
    "tags": []
   },
   "outputs": [],
   "source": [
    "import math\n",
    "def promedio_tupla_tupla(tt):\n",
    "    new_t = () \n",
    "    new_t = [ (math.fsum(t)/len(t) ) for t in tt]\n",
    "    return tuple(new_t)"
   ]
  },
  {
   "cell_type": "code",
   "execution_count": 351,
   "id": "6beb4ff4-9eff-4df5-ab4a-14ac690eb0c5",
   "metadata": {
    "tags": []
   },
   "outputs": [
    {
     "data": {
      "text/plain": [
       "(5.5, 6.5, 18.333333333333332)"
      ]
     },
     "execution_count": 351,
     "metadata": {},
     "output_type": "execute_result"
    }
   ],
   "source": [
    "promedio_tupla_tupla(((5,6), (5,8), (1,8,46)))"
   ]
  },
  {
   "cell_type": "markdown",
   "id": "34cdcf8c-426c-4c44-923b-b2aa3a2d292a",
   "metadata": {},
   "source": [
    "## 7."
   ]
  },
  {
   "cell_type": "markdown",
   "id": "b342e5be-ef71-4560-8a48-38c8fc6f43da",
   "metadata": {
    "jp-MarkdownHeadingCollapsed": true,
    "tags": []
   },
   "source": [
    "### Funciones"
   ]
  },
  {
   "cell_type": "code",
   "execution_count": 37,
   "id": "43d8947e-9947-4c9b-84d7-75fccc681ff5",
   "metadata": {
    "tags": []
   },
   "outputs": [],
   "source": [
    "facturas = {}"
   ]
  },
  {
   "cell_type": "code",
   "execution_count": 90,
   "id": "24fe63f9-2e57-4ff8-a0b9-45392047520a",
   "metadata": {},
   "outputs": [],
   "source": [
    "def agregar_factura(id_factura, costo):\n",
    "    try: \n",
    "        if len(costo[(costo).index('.'):]) != 3:\n",
    "            print('---ERROR!---\\nPorfavor ingrese un costo con 2 decimales, incluya Ceros\\n')\n",
    "            return\n",
    "    except ValueError:\n",
    "        print('---ERROR!---\\nPorfavor utilice dos decimales con .\\n')\n",
    "        return\n",
    "    \n",
    "    if len(id_factura) != 4:\n",
    "        print('---ERROR!---\\nPrfavor ingrese un codigo de 4 digitos para la factura\\n')\n",
    "        return\n",
    "    \n",
    "    try:\n",
    "        id_factura = int(id_factura)\n",
    "    except ValueError:\n",
    "        print('---ERROR!---\\nPorvafor ingrese enteros en la factura\\n')\n",
    "        return\n",
    "    \n",
    "    try:\n",
    "        costo = float(costo)\n",
    "    except ValueError:\n",
    "        print('---ERROR!---\\nPorvafor ingrese un precio en el costo\\n')\n",
    "        return\n",
    "    \n",
    "    if costo < 0:\n",
    "        print('---ERROR!---\\nPorfavor no use negativos en el costo\\n')\n",
    "        return\n",
    "    \n",
    "    if id_factura < 0:\n",
    "        print('---ERROR!---\\nPorfavor no use negativos en la factura\\n')\n",
    "        return\n",
    "    \n",
    "    facturas[id_factura] = costo\n",
    "    print_facturas()\n"
   ]
  },
  {
   "cell_type": "code",
   "execution_count": 91,
   "id": "023ff82e-8881-479d-93ee-d89926c44610",
   "metadata": {
    "tags": []
   },
   "outputs": [],
   "source": [
    "def pagar_factura(id_factura):\n",
    "    \n",
    "    if len(id_factura) != 4:\n",
    "        print('---ERROR!---\\nPorfavor ingrese un codigo de 4 digitos para la factura\\n')\n",
    "        return\n",
    "    \n",
    "    try:\n",
    "        id_factura = int(id_factura)\n",
    "    except ValueError:\n",
    "        print('---ERROR!---\\nPorvafor ingrese enteros en la factura\\n')\n",
    "        return\n",
    "    \n",
    "    if id_factura < 0:\n",
    "        print('---ERROR!---\\nPorfavor no use negativos en la factura\\n')\n",
    "        return\n",
    "    \n",
    "    facturas.pop(id_factura)\n",
    "    print_facturas()"
   ]
  },
  {
   "cell_type": "code",
   "execution_count": 92,
   "id": "c4651ffc-c64b-4e57-9812-df8060be0a63",
   "metadata": {
    "tags": []
   },
   "outputs": [],
   "source": [
    "def print_facturas():\n",
    "    print('-------------------------')\n",
    "    for f in list(facturas.keys()):\n",
    "        c = '{:>04d}'.format(f)\n",
    "        print(f'Factura: {c}, Costo: {facturas[f]}') \n",
    "    print('-------------------------')"
   ]
  },
  {
   "cell_type": "code",
   "execution_count": 93,
   "id": "96fbaec8-5594-4ed1-858b-1f5f3542a1a7",
   "metadata": {
    "tags": []
   },
   "outputs": [
    {
     "name": "stdout",
     "output_type": "stream",
     "text": [
      "-------------------------\n",
      "Factura: 5255, Costo: 31.03\n",
      "Factura: 0000, Costo: 99.0\n",
      "Factura: 0555, Costo: 31.03\n",
      "-------------------------\n"
     ]
    }
   ],
   "source": [
    "agregar_factura('5255', '31.03')"
   ]
  },
  {
   "cell_type": "markdown",
   "id": "68272584-8fa4-4a48-b4a8-f8fd90dd93ad",
   "metadata": {
    "jp-MarkdownHeadingCollapsed": true,
    "tags": []
   },
   "source": [
    "### Ejecucion"
   ]
  },
  {
   "cell_type": "code",
   "execution_count": 98,
   "id": "5bd7fbeb-e77e-4b1a-987d-603eca7d404c",
   "metadata": {
    "tags": []
   },
   "outputs": [
    {
     "name": "stdin",
     "output_type": "stream",
     "text": [
      "Ingreasr Factura \t-> 1 \n",
      "Pagar Factura \t\t-> 2 \n",
      "Ver Facturas \t\t-> 3 \n",
      "Salir \t\t\t-> 4 1\n",
      "Ingrese el numero de Factura: 0101\n",
      "Ingrese el costo de la Factura: 64.22\n"
     ]
    },
    {
     "name": "stdout",
     "output_type": "stream",
     "text": [
      "-------------------------\n",
      "Factura: 5255, Costo: 31.03\n",
      "Factura: 0000, Costo: 99.0\n",
      "Factura: 0555, Costo: 31.03\n",
      "Factura: 0101, Costo: 64.22\n",
      "-------------------------\n"
     ]
    },
    {
     "name": "stdin",
     "output_type": "stream",
     "text": [
      "Ingreasr Factura \t-> 1 \n",
      "Pagar Factura \t\t-> 2 \n",
      "Ver Facturas \t\t-> 3 \n",
      "Salir \t\t\t-> 4 2\n",
      "Ingrese el numero de la Factura a pagar: 0101\n"
     ]
    },
    {
     "name": "stdout",
     "output_type": "stream",
     "text": [
      "-------------------------\n",
      "Factura: 5255, Costo: 31.03\n",
      "Factura: 0000, Costo: 99.0\n",
      "Factura: 0555, Costo: 31.03\n",
      "-------------------------\n"
     ]
    },
    {
     "name": "stdin",
     "output_type": "stream",
     "text": [
      "Ingreasr Factura \t-> 1 \n",
      "Pagar Factura \t\t-> 2 \n",
      "Ver Facturas \t\t-> 3 \n",
      "Salir \t\t\t-> 4 3\n"
     ]
    },
    {
     "name": "stdout",
     "output_type": "stream",
     "text": [
      "-------------------------\n",
      "Factura: 5255, Costo: 31.03\n",
      "Factura: 0000, Costo: 99.0\n",
      "Factura: 0555, Costo: 31.03\n",
      "-------------------------\n"
     ]
    },
    {
     "name": "stdin",
     "output_type": "stream",
     "text": [
      "Ingreasr Factura \t-> 1 \n",
      "Pagar Factura \t\t-> 2 \n",
      "Ver Facturas \t\t-> 3 \n",
      "Salir \t\t\t-> 4 4\n"
     ]
    },
    {
     "name": "stdout",
     "output_type": "stream",
     "text": [
      "-------------------------\n",
      "Factura: 5255, Costo: 31.03\n",
      "Factura: 0000, Costo: 99.0\n",
      "Factura: 0555, Costo: 31.03\n",
      "-------------------------\n",
      "Terminado\n"
     ]
    }
   ],
   "source": [
    "while(True):\n",
    "    opcion = input('Ingreasr Factura \\t-> 1 \\nPagar Factura \\t\\t-> 2 \\nVer Facturas \\t\\t-> 3 \\nSalir \\t\\t\\t-> 4')\n",
    "    if len(opcion) != 1:\n",
    "        print('---ERROR!---\\nPorfavor ingrese solo un numero\\n')\n",
    "        \n",
    "    try:\n",
    "        opcion = int(opcion)\n",
    "    except ValueError:\n",
    "        print('---ERROR!---\\nPorfavor ingrese un entero\\n')\n",
    "    \n",
    "    if opcion == 1:\n",
    "        f = input('Ingrese el numero de Factura:')\n",
    "        c = input('Ingrese el costo de la Factura:')\n",
    "        agregar_factura(f, c)\n",
    "    elif opcion == 2:\n",
    "        f = input('Ingrese el numero de la Factura a pagar:')\n",
    "        pagar_factura(f)\n",
    "    elif opcion == 3:\n",
    "        print_facturas()\n",
    "    elif opcion == 4:\n",
    "        print_facturas()\n",
    "        print('Terminado')\n",
    "        break        \n",
    "    else:\n",
    "        print('---ERROR!---\\nPorfavor ingrese 1, 2, 3 o 4\\~')\n"
   ]
  },
  {
   "cell_type": "markdown",
   "id": "53c6a16b-b22f-427c-9990-cca649567923",
   "metadata": {
    "tags": []
   },
   "source": [
    "## 8."
   ]
  },
  {
   "cell_type": "markdown",
   "id": "64afd497-f024-4e56-bf18-209b8ee5727a",
   "metadata": {
    "jp-MarkdownHeadingCollapsed": true,
    "tags": []
   },
   "source": [
    "### Funciones"
   ]
  },
  {
   "cell_type": "code",
   "execution_count": 109,
   "id": "79e84b14-43ab-4667-a70c-3de71cae8b4e",
   "metadata": {
    "tags": []
   },
   "outputs": [],
   "source": [
    "def crear_deck_poker():\n",
    "    tipo = ['T', 'C', 'P', 'E']\n",
    "    deck = []\n",
    "    for t in tipo:\n",
    "        for n in range(13):\n",
    "            carta = t + '{:>02d}'.format(n + 1)\n",
    "            deck.append(carta)\n",
    "    return deck"
   ]
  },
  {
   "cell_type": "code",
   "execution_count": 226,
   "id": "5982390f-4ae5-4837-a29b-61788bf781fb",
   "metadata": {
    "tags": []
   },
   "outputs": [
    {
     "name": "stdout",
     "output_type": "stream",
     "text": [
      "['T01', 'T02', 'T03', 'T04', 'T05', 'T06', 'T07', 'T08', 'T09', 'T10', 'T11', 'T12', 'T13', 'C01', 'C02', 'C03', 'C04', 'C05', 'C06', 'C07', 'C08', 'C09', 'C10', 'C11', 'C12', 'C13', 'P01', 'P02', 'P03', 'P04', 'P05', 'P06', 'P07', 'P08', 'P09', 'P10', 'P11', 'P12', 'P13', 'E01', 'E02', 'E03', 'E04', 'E05', 'E06', 'E07', 'E08', 'E09', 'E10', 'E11', 'E12', 'E13']\n"
     ]
    }
   ],
   "source": [
    "print(crear_deck_poker())"
   ]
  },
  {
   "cell_type": "code",
   "execution_count": 227,
   "id": "87e189cf-dfe1-4cd4-a293-6e893ccbb8b6",
   "metadata": {
    "tags": []
   },
   "outputs": [],
   "source": [
    "import random\n",
    "def subdeck(deck, n = 1):\n",
    "    subdecks = []\n",
    "    for _ in range(n):\n",
    "        cantidad = random.randint(0, len(deck))\n",
    "        tempdeck = []\n",
    "        for _ in range(cantidad):\n",
    "            pos_carta = random.randint(0, len(deck)-1)\n",
    "            if (deck[pos_carta] in tempdeck) & (random.randint(0,1) == 1):\n",
    "                pos_carta = random.randint(0, len(deck)-1)\n",
    "            if (deck[pos_carta] not in tempdeck):\n",
    "                tempdeck.append(deck[pos_carta])\n",
    "        subdecks.append(tempdeck)\n",
    "    return subdecks\n",
    "                                  \n",
    "    "
   ]
  },
  {
   "cell_type": "code",
   "execution_count": 256,
   "id": "5f8995f1-48f5-48e9-a7fd-c3973b4f7814",
   "metadata": {
    "tags": []
   },
   "outputs": [
    {
     "name": "stdout",
     "output_type": "stream",
     "text": [
      "24\n",
      "0\n"
     ]
    },
    {
     "data": {
      "text/plain": [
       "[None, None]"
      ]
     },
     "execution_count": 256,
     "metadata": {},
     "output_type": "execute_result"
    }
   ],
   "source": [
    "[print(len(n)) for n in subdeck(crear_deck_poker(), 2) ]"
   ]
  },
  {
   "cell_type": "code",
   "execution_count": 257,
   "id": "58332f44-fec5-4abe-8e9b-fc6f7e5ea66f",
   "metadata": {
    "tags": []
   },
   "outputs": [],
   "source": [
    "def interseccion_decks(decks):\n",
    "    similares = [c for c in decks[0] if c in decks[1]]\n",
    "    \n",
    "    return len(similares), (len(similares) / 52)"
   ]
  },
  {
   "cell_type": "code",
   "execution_count": 258,
   "id": "237f9e3a-be4d-434f-8d69-320d0e019095",
   "metadata": {
    "tags": []
   },
   "outputs": [
    {
     "data": {
      "text/plain": [
       "(1, 0.019230769230769232)"
      ]
     },
     "execution_count": 258,
     "metadata": {},
     "output_type": "execute_result"
    }
   ],
   "source": [
    "interseccion_decks(subdeck(crear_deck_poker(), 2))"
   ]
  },
  {
   "cell_type": "code",
   "execution_count": 259,
   "id": "639eca25-cb3d-43c4-ac27-547714baf21d",
   "metadata": {
    "tags": []
   },
   "outputs": [],
   "source": [
    "def union_decks(decks):\n",
    "    similares = [c for c in decks[0] if c in decks[1]]\n",
    "    diferentes_1 = [c for c in decks[0] if c not in decks[1]]\n",
    "    diferentes_2 = [c for c in decks[1] if c not in decks[0]]\n",
    "    \n",
    "    union = similares + diferentes_1 + diferentes_2\n",
    "    \n",
    "    return len(union), (len(union) / 52) "
   ]
  },
  {
   "cell_type": "code",
   "execution_count": 268,
   "id": "dc9e6429-a339-4895-8e0b-31284bd55cba",
   "metadata": {
    "tags": []
   },
   "outputs": [
    {
     "data": {
      "text/plain": [
       "(25, 0.4807692307692308)"
      ]
     },
     "execution_count": 268,
     "metadata": {},
     "output_type": "execute_result"
    }
   ],
   "source": [
    "decks = subdeck(crear_deck_poker(), 2)\n",
    "union_decks(decks)"
   ]
  },
  {
   "cell_type": "markdown",
   "id": "6960d75b-eaf2-4585-bbb6-1ee0aca2d917",
   "metadata": {},
   "source": [
    "### Ejecucion"
   ]
  },
  {
   "cell_type": "code",
   "execution_count": 310,
   "id": "1397ba3e-6667-410b-90d6-6162d03ecf58",
   "metadata": {
    "tags": []
   },
   "outputs": [
    {
     "name": "stdout",
     "output_type": "stream",
     "text": [
      "Creemos el deck\n",
      "El deck:\n",
      " ['T01', 'T02', 'T03', 'T04', 'T05', 'T06', 'T07', 'T08', 'T09', 'T10', 'T11', 'T12', 'T13', 'C01', 'C02', 'C03', 'C04', 'C05', 'C06', 'C07', 'C08', 'C09', 'C10', 'C11', 'C12', 'C13', 'P01', 'P02', 'P03', 'P04', 'P05', 'P06', 'P07', 'P08', 'P09', 'P10', 'P11', 'P12', 'P13', 'E01', 'E02', 'E03', 'E04', 'E05', 'E06', 'E07', 'E08', 'E09', 'E10', 'E11', 'E12', 'E13']\n",
      "\n",
      "\n",
      "Ahora creemos dos subdecks\n",
      "\n",
      "El deck 1 | Tamaño: 2\n",
      "['P07', 'C01']\n",
      "\n",
      "\n",
      "El deck 2 | Tamaño: 5\n",
      "['T08', 'T11', 'E13', 'E03', 'P06']\n",
      "\n",
      "Hagamos la interseccion de los 2 subdecks: \n",
      " Cardinalidad: \t0 \n",
      " Porcentaje: \t0.0\n",
      "\n",
      "Hagamos la union de los 2 subdecks: \n",
      " Cardinalidad: \t7 \n",
      " Porcentaje: \t0.1346153846153846\n",
      "\n",
      "Verifiquemos la regla de la adiccon | P(A∪B) = P(A) + P(B) - P(A∩B) |:\n",
      "\tP(subdeck01) = 0.038461538461538464\n",
      "\tP(subdeck02) = 0.09615384615384616\n",
      "\tP(subdeck01 ∩ subdeck02) =  0.0\n",
      "\n",
      "0.038461538461538464 + 0.09615384615384616 - 0.0 = 0.13461538461538464\n",
      "Son equivalentes 0.13461538461538464 = 0.1346153846153846\n"
     ]
    }
   ],
   "source": [
    "print('Creemos el deck')\n",
    "deck = crear_deck_poker()\n",
    "\n",
    "print('El deck:\\n', deck)\n",
    "print('\\n\\nAhora creemos dos subdecks\\n')\n",
    "subdecks = subdeck(deck, 2)\n",
    "\n",
    "print(f'El deck 1 | Tamaño: {len(subdecks[0])}\\n{subdecks[0]}\\n\\n')\n",
    "print(f'El deck 2 | Tamaño: {len(subdecks[1])}\\n{subdecks[1]}\\n')\n",
    "\n",
    "interseccion = interseccion_decks(subdecks)\n",
    "print(f'Hagamos la interseccion de los 2 subdecks: \\n Cardinalidad: \\t{interseccion[0]} \\n Porcentaje: \\t{interseccion[1]}\\n')\n",
    "\n",
    "union = union_decks(subdecks)\n",
    "print(f'Hagamos la union de los 2 subdecks: \\n Cardinalidad: \\t{union[0]} \\n Porcentaje: \\t{union[1]}\\n')\n",
    "\n",
    "print('Verifiquemos la regla de la adiccon | P(A'+'\\u222A'+'B) = P(A) + P(B) - P(A'+'\\u2229'+'B) |:')\n",
    "p_subdeck01 = len(subdecks[0])/52\n",
    "print('\\tP(subdeck01) =', p_subdeck01)\n",
    "p_subdeck02 = len(subdecks[1])/52\n",
    "print('\\tP(subdeck02) =', p_subdeck02)\n",
    "print('\\tP(subdeck01 '+'\\u2229'+' subdeck02) = ', interseccion[1])\n",
    "union_suma = p_subdeck01 + p_subdeck02 - interseccion[1]\n",
    "print(f'\\n{p_subdeck01} + {p_subdeck02} - {interseccion[1]} = {union_suma}')\n",
    "\n",
    "print(f'Son equivalentes {union_suma} = {union[1]}')"
   ]
  }
 ],
 "metadata": {
  "kernelspec": {
   "display_name": "Python 3 (ipykernel)",
   "language": "python",
   "name": "python3"
  },
  "language_info": {
   "codemirror_mode": {
    "name": "ipython",
    "version": 3
   },
   "file_extension": ".py",
   "mimetype": "text/x-python",
   "name": "python",
   "nbconvert_exporter": "python",
   "pygments_lexer": "ipython3",
   "version": "3.11.5"
  }
 },
 "nbformat": 4,
 "nbformat_minor": 5
}
